{
 "cells": [
  {
   "cell_type": "code",
   "execution_count": 7,
   "id": "ca015e7b",
   "metadata": {},
   "outputs": [],
   "source": [
    "name1 = \"Joseph\"\n",
    "height_m1 = 1.7\n",
    "weight_kg1 = 20\n",
    "\n",
    "name2 = \"Mom\"\n",
    "height_m2 = 1.5\n",
    "weight_kg2 = 70\n",
    "\n",
    "name3 = \"Dad\"\n",
    "height_m3 = 2\n",
    "weight_kg3 = 120"
   ]
  },
  {
   "cell_type": "code",
   "execution_count": 14,
   "id": "67f78538",
   "metadata": {},
   "outputs": [],
   "source": [
    "def bmi_calulator(name, height_m, weight_kg):\n",
    "    bmi = weight_kg / (height_m ** 2)\n",
    "    print(\"bmi: \")\n",
    "    print(bmi)\n",
    "    if bmi < 25:\n",
    "        return name + \" is not overweight\"\n",
    "    else:\n",
    "        return name + \" is overweight\""
   ]
  },
  {
   "cell_type": "code",
   "execution_count": 15,
   "id": "991eaea7",
   "metadata": {},
   "outputs": [
    {
     "name": "stdout",
     "output_type": "stream",
     "text": [
      "bmi: \n",
      "6.920415224913495\n",
      "bmi: \n",
      "31.11111111111111\n",
      "bmi: \n",
      "30.0\n"
     ]
    }
   ],
   "source": [
    "result1 = bmi_calulator(name1, height_m1, weight_kg1)\n",
    "result2 = bmi_calulator(name2, height_m2, weight_kg2)\n",
    "result3 = bmi_calulator(name3, height_m3, weight_kg3)"
   ]
  },
  {
   "cell_type": "code",
   "execution_count": 16,
   "id": "63fe89f9",
   "metadata": {},
   "outputs": [
    {
     "name": "stdout",
     "output_type": "stream",
     "text": [
      "Joseph is not overweight\n",
      "Mom is overweight\n",
      "Dad is overweight\n"
     ]
    }
   ],
   "source": [
    "print (result1)\n",
    "print (result2)\n",
    "print (result3)"
   ]
  },
  {
   "cell_type": "code",
   "execution_count": null,
   "id": "d38bc71e",
   "metadata": {},
   "outputs": [],
   "source": []
  }
 ],
 "metadata": {
  "kernelspec": {
   "display_name": "Python 3 (ipykernel)",
   "language": "python",
   "name": "python3"
  },
  "language_info": {
   "codemirror_mode": {
    "name": "ipython",
    "version": 3
   },
   "file_extension": ".py",
   "mimetype": "text/x-python",
   "name": "python",
   "nbconvert_exporter": "python",
   "pygments_lexer": "ipython3",
   "version": "3.9.7"
  }
 },
 "nbformat": 4,
 "nbformat_minor": 5
}
